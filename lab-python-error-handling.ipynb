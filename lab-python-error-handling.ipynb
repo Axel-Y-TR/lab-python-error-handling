{
 "cells": [
  {
   "cell_type": "markdown",
   "id": "25d7736c-ba17-4aff-b6bb-66eba20fbf4e",
   "metadata": {},
   "source": [
    "# Lab | Error Handling"
   ]
  },
  {
   "cell_type": "markdown",
   "id": "bc99b386-7508-47a0-bcdb-d969deaf6c8b",
   "metadata": {},
   "source": [
    "## Exercise: Error Handling for Managing Customer Orders\n",
    "\n",
    "The implementation of your code for managing customer orders assumes that the user will always enter a valid input. \n",
    "\n",
    "For example, we could modify the `initialize_inventory` function to include error handling.\n",
    "   - If the user enters an invalid quantity (e.g., a negative value or a non-numeric value), display an error message and ask them to re-enter the quantity for that product.\n",
    "   - Use a try-except block to handle the error and continue prompting the user until a valid quantity is entered.\n",
    "\n",
    "```python\n",
    "# Step 1: Define the function for initializing the inventory with error handling\n",
    "def initialize_inventory(products):\n",
    "    inventory = {}\n",
    "    for product in products:\n",
    "        valid_quantity = False\n",
    "        while not valid_quantity:\n",
    "            try:\n",
    "                quantity = int(input(f\"Enter the quantity of {product}s available: \"))\n",
    "                if quantity < 0:\n",
    "                    raise ValueError(\"Invalid quantity! Please enter a non-negative value.\")\n",
    "                valid_quantity = True\n",
    "            except ValueError as error:\n",
    "                print(f\"Error: {error}\")\n",
    "        inventory[product] = quantity\n",
    "    return inventory\n",
    "\n",
    "# Or, in another way:\n",
    "\n",
    "def initialize_inventory(products):\n",
    "    inventory = {}\n",
    "    for product in products:\n",
    "        valid_input = False\n",
    "        while not valid_input:\n",
    "            try:\n",
    "                quantity = int(input(f\"Enter the quantity of {product}s available: \"))\n",
    "                if quantity >= 0:\n",
    "                    inventory[product] = quantity\n",
    "                    valid_input = True\n",
    "                else:\n",
    "                    print(\"Quantity cannot be negative. Please enter a valid quantity.\")\n",
    "            except ValueError:\n",
    "                print(\"Invalid input. Please enter a valid quantity.\")\n",
    "    return inventory\n",
    "```\n",
    "\n",
    "Let's enhance your code by implementing error handling to handle invalid inputs.\n",
    "\n",
    "Follow the steps below to complete the exercise:\n",
    "\n",
    "2. Modify the `calculate_total_price` function to include error handling.\n",
    "   - If the user enters an invalid price (e.g., a negative value or a non-numeric value), display an error message and ask them to re-enter the price for that product.\n",
    "   - Use a try-except block to handle the error and continue prompting the user until a valid price is entered.\n",
    "\n",
    "3. Modify the `get_customer_orders` function to include error handling.\n",
    "   - If the user enters an invalid number of orders (e.g., a negative value or a non-numeric value), display an error message and ask them to re-enter the number of orders.\n",
    "   - If the user enters an invalid product name (e.g., a product name that is not in the inventory), or that doesn't have stock available, display an error message and ask them to re-enter the product name. *Hint: you will need to pass inventory as a parameter*\n",
    "   - Use a try-except block to handle the error and continue prompting the user until a valid product name is entered.\n",
    "\n",
    "4. Test your code by running the program and deliberately entering invalid quantities and product names. Make sure the error handling mechanism works as expected.\n"
   ]
  },
  {
   "cell_type": "markdown",
   "id": "8f4b10ea",
   "metadata": {},
   "source": [
    "2. Modify the `calculate_total_price` function to include error handling.\n",
    "   - If the user enters an invalid price (e.g., a negative value or a non-numeric value), display an error message and ask them to re-enter the price for that product.\n",
    "   - Use a try-except block to handle the error and continue prompting the user until a valid price is entered.\n"
   ]
  },
  {
   "cell_type": "code",
   "execution_count": 9,
   "id": "0467d9f1",
   "metadata": {},
   "outputs": [
    {
     "name": "stdout",
     "output_type": "stream",
     "text": [
      "Error: could not convert string to float: 'a'\n",
      "6.0 €\n"
     ]
    }
   ],
   "source": [
    "# V3 customer orders Issue (Value error is not count because they print that \"Error: could not convert string to float: 'a'\")\n",
    "customer_orders = {\"hat\",\"mug\"}\n",
    "\n",
    "def calcul_price(customer_orders):\n",
    "    price = []\n",
    "    for p in customer_orders:\n",
    "        # u_price = input(\"Enter the price\")\n",
    "        # u_price = float(u_price)\n",
    "\n",
    "        valid_price = False\n",
    "        while not valid_price:\n",
    "            u_price = input(\"Enter the price\")\n",
    "            try:\n",
    "                u_price = float(u_price)\n",
    "                # if u_price != float(u_price):\n",
    "                #  print(u_price)\n",
    "                # if not isinstance(u_price, float):\n",
    "                    # raise ValueError(\"Invalid price! Please enter an integer.\")\n",
    "                if u_price < 0:\n",
    "                    raise ValueError(\"Invalid price! Please enter a non-negative value.\")\n",
    "                price.append(u_price)\n",
    "                valid_price = True\n",
    "            except ValueError as error:\n",
    "                print(f\"Error: {error}\")\n",
    "\n",
    "            # price.append(u_price)\n",
    "            # valid_price = True  \n",
    "\n",
    "    return sum(price)\n",
    "\n",
    "Total_price = calcul_price(customer_orders)\n",
    "print(Total_price,\"€\")"
   ]
  },
  {
   "cell_type": "code",
   "execution_count": 2,
   "id": "5f5b218b",
   "metadata": {},
   "outputs": [
    {
     "name": "stdout",
     "output_type": "stream",
     "text": [
      "Invalid\n",
      "3.0\n"
     ]
    }
   ],
   "source": [
    "# u = input('enter number')\n",
    "\n",
    "\n",
    "while True:\n",
    "    u = input('enter number')\n",
    "    try:\n",
    "        u = float(u)\n",
    "        break\n",
    "\n",
    "    except ValueError:\n",
    "        print(\"Invalid\")\n",
    "\n",
    "print(u)"
   ]
  },
  {
   "cell_type": "markdown",
   "id": "afbd0ef4",
   "metadata": {},
   "source": [
    "3. Modify the `get_customer_orders` function to include error handling.\n",
    "   - If the user enters an invalid number of orders (e.g., a negative value or a non-numeric value), display an error message and ask them to re-enter the number of orders.\n",
    "   - If the user enters an invalid product name (e.g., a product name that is not in the inventory), or that doesn't have stock available, display an error message and ask them to re-enter the product name. *Hint: you will need to pass inventory as a parameter*\n",
    "   - Use a try-except block to handle the error and continue prompting the user until a valid product name is entered.\n"
   ]
  },
  {
   "cell_type": "code",
   "execution_count": 24,
   "id": "800ed5a7",
   "metadata": {},
   "outputs": [
    {
     "name": "stdout",
     "output_type": "stream",
     "text": [
      "3\n",
      "there is an error, please enter a positive number\n"
     ]
    },
    {
     "data": {
      "text/plain": [
       "set()"
      ]
     },
     "execution_count": 24,
     "metadata": {},
     "output_type": "execute_result"
    }
   ],
   "source": [
    "# V1\n",
    "inventory = {'t-shirt': 5, 'mug': 4, 'hat': 4, 'book': 4, 'keychain': 5}\n",
    "customer_orders = set()\n",
    "\n",
    "def get_customer_orders():\n",
    "\n",
    "    def int_check(nb):\n",
    "        nb = int\n",
    "        if type(nb) != int:\n",
    "            raise ValueError(\"The number entered is not an integer!\")\n",
    "        elif nb < 1:\n",
    "            raise ValueError(\"The number entered is not a positive number!\")\n",
    "        \n",
    "        else:\n",
    "            pass\n",
    "    \n",
    "    def product_name_check(nb,inventory):\n",
    "        for x in range (1,nb+1):\n",
    "            c = input(\"enter your product\")\n",
    "            customer_orders.add(c)\n",
    "        for element in customer_orders:\n",
    "            if element not in inventory.keys():\n",
    "                raise ValueError(\"sorry, we don't have this !\")\n",
    "        else: \n",
    "            pass\n",
    "\n",
    "    nb = input(\"How many orders do you have ? \")\n",
    "    print(nb)\n",
    "\n",
    "    try:\n",
    "        int_check(nb)\n",
    "    except:\n",
    "        print(\"there is an error, please enter a positive number\")\n",
    "    else:\n",
    "        print(\"The orders are good\")\n",
    "        try:\n",
    "            product_name_check(nb,inventory)\n",
    "        except:\n",
    "            print(\"The product is not avaible \")\n",
    "        \n",
    "\n",
    "\n",
    "    # nb = int(input(\"How many orders do you have ? \"))\n",
    "    # c = {(input(\"enter your product\")) for x in range (1,nb+1)}\n",
    "    return customer_orders\n",
    "\n",
    "\n",
    "    \n",
    "\n",
    "get_customer_orders()\n",
    "\n",
    "\n",
    "\n"
   ]
  },
  {
   "cell_type": "markdown",
   "id": "ecf2694b",
   "metadata": {},
   "source": [
    "\n",
    "\n",
    "            \n",
    "        \n",
    "    \n",
    "\n",
    "\n",
    "\n",
    "\n"
   ]
  },
  {
   "cell_type": "code",
   "execution_count": 20,
   "id": "7ce116ad",
   "metadata": {},
   "outputs": [
    {
     "name": "stdout",
     "output_type": "stream",
     "text": [
      "2 <class 'int'>\n",
      "The orders are good\n",
      "2 <class 'int'>\n",
      "The product is not avaible \n"
     ]
    },
    {
     "data": {
      "text/plain": [
       "set()"
      ]
     },
     "execution_count": 20,
     "metadata": {},
     "output_type": "execute_result"
    }
   ],
   "source": [
    "# V2\n",
    "inventory = {'t-shirt': 5, 'mug': 4, 'hat': 4, 'book': 4, 'keychain': 5}\n",
    "customer_orders = set()\n",
    "\n",
    "def get_customer_orders():\n",
    "\n",
    "    def int_check(nb):\n",
    "        nb = int(nb)\n",
    "        print(nb, type(nb))\n",
    "\n",
    "        if type(nb) != int:\n",
    "            raise ValueError(\"The number entered is not an integer!\")\n",
    "        elif nb < 1:\n",
    "            raise ValueError(\"The number entered is not a positive number!\")\n",
    "        else:\n",
    "            pass\n",
    "    \n",
    "    def product_name_check(nb,inventory):\n",
    "        for x in range (1,nb+1):\n",
    "            c = input(\"enter your product\")\n",
    "            customer_orders.add(c)\n",
    "        for element in customer_orders:\n",
    "            if element not in inventory.keys():\n",
    "                raise ValueError(\"sorry, we don't have this !\")\n",
    "            else: \n",
    "                pass\n",
    "\n",
    "    nb = input(\"How many orders do you have ? \")\n",
    "    \n",
    "\n",
    "    # print(nb, type(nb))\n",
    "\n",
    "    try:\n",
    "        int_check(nb)\n",
    "    except:\n",
    "        print(\"there is an error, please enter a positive number\")\n",
    "    else:\n",
    "        print(\"The orders are good\")\n",
    "        try:\n",
    "            product_name_check(nb,inventory)\n",
    "        except:\n",
    "            print(\"The product is not avaible \")\n",
    "        \n",
    "\n",
    "\n",
    "    # nb = int(input(\"How many orders do you have ? \"))\n",
    "    # c = {(input(\"enter your product\")) for x in range (1,nb+1)}\n",
    "    return customer_orders\n",
    "\n",
    "\n",
    "    \n",
    "\n",
    "get_customer_orders()"
   ]
  },
  {
   "cell_type": "code",
   "execution_count": 38,
   "id": "13eb89ec",
   "metadata": {},
   "outputs": [
    {
     "name": "stdout",
     "output_type": "stream",
     "text": [
      "The orders are good\n",
      "{'hat', 'mug'}\n",
      "{'hat', 'mug'}\n"
     ]
    },
    {
     "data": {
      "text/plain": [
       "set()"
      ]
     },
     "execution_count": 38,
     "metadata": {},
     "output_type": "execute_result"
    }
   ],
   "source": [
    "# V3\n",
    "inventory = {'t-shirt': 5, 'mug': 4, 'hat': 4, 'book': 4, 'keychain': 5}\n",
    "customer_orders = set()\n",
    "\n",
    "def get_customer_orders():\n",
    "\n",
    "    def int_check(nb):\n",
    "        try:\n",
    "            nb = int(nb_str)\n",
    "        except ValueError:\n",
    "            raise ValueError(\"The input is not a valid integer!\")\n",
    "        if type(nb) != int:\n",
    "            raise ValueError(\"The number entered is not an integer!\")\n",
    "        elif nb < 1:\n",
    "            raise ValueError(\"The number entered is not a positive number!\")\n",
    "        else:\n",
    "            pass\n",
    "    \n",
    "    def product_name_check(nb,inventory):\n",
    "        customer_orders = set()\n",
    "        for x in range (int(nb_str)):\n",
    "            c = input(\"enter your product\")\n",
    "            customer_orders.add(c)\n",
    "        for element in customer_orders:\n",
    "            if element not in inventory.keys():\n",
    "                raise ValueError(\"sorry, we don't have this !\")\n",
    "            print(customer_orders)\n",
    "        return customer_orders\n",
    "\n",
    "    nb_str = input(\"How many orders do you have ? \")\n",
    "    \n",
    "\n",
    "    # print(nb, type(nb))\n",
    "\n",
    "    try:\n",
    "        int_check(nb_str)\n",
    "    except ValueError:\n",
    "        print(\"there is an error, please enter a positive number\")\n",
    "    else:\n",
    "        print(\"The orders are good\")\n",
    "        try:\n",
    "            product_name_check(nb_str,inventory)\n",
    "        except ValueError:\n",
    "            print(\"The product is not avaible \")\n",
    "        \n",
    "    orders = customer_orders \n",
    "\n",
    "    # nb = int(input(\"How many orders do you have ? \"))\n",
    "    # c = {(input(\"enter your product\")) for x in range (1,nb+1)}\n",
    "    return orders\n",
    "get_customer_orders()"
   ]
  },
  {
   "cell_type": "code",
   "execution_count": null,
   "id": "4f6ff20d",
   "metadata": {},
   "outputs": [],
   "source": []
  }
 ],
 "metadata": {
  "kernelspec": {
   "display_name": "Python 3 (ipykernel)",
   "language": "python",
   "name": "python3"
  },
  "language_info": {
   "codemirror_mode": {
    "name": "ipython",
    "version": 3
   },
   "file_extension": ".py",
   "mimetype": "text/x-python",
   "name": "python",
   "nbconvert_exporter": "python",
   "pygments_lexer": "ipython3",
   "version": "3.11.4"
  }
 },
 "nbformat": 4,
 "nbformat_minor": 5
}
